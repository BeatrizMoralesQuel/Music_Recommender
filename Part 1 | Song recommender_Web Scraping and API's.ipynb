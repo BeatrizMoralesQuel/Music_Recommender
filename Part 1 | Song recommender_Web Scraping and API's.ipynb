{
 "cells": [
  {
   "cell_type": "markdown",
   "id": "0a482733",
   "metadata": {},
   "source": [
    "### Web Scraping"
   ]
  },
  {
   "cell_type": "markdown",
   "id": "e0b00c3a",
   "metadata": {},
   "source": [
    "_______________________"
   ]
  },
  {
   "cell_type": "markdown",
   "id": "11b56f26",
   "metadata": {},
   "source": [
    "#### In this notebook, we will be scraping two individual lists:\n",
    "1. The current Top 100 songs.\n",
    "2. The Top 100 songs in rock and pop from the 50s until present.\n",
    "\n",
    "##### This will be done by using beautiful soup, and the resulting dataframe will serve as our top 200 hundred hot songs"
   ]
  },
  {
   "cell_type": "markdown",
   "id": "a8672d29",
   "metadata": {},
   "source": [
    "_____________________"
   ]
  },
  {
   "cell_type": "markdown",
   "id": "790155d2",
   "metadata": {},
   "source": [
    "#### 1. Import Libraries"
   ]
  },
  {
   "cell_type": "code",
   "execution_count": 73,
   "id": "85c96570",
   "metadata": {},
   "outputs": [],
   "source": [
    "from bs4 import BeautifulSoup\n",
    "import requests\n",
    "import pandas as pd\n",
    "import re\n",
    "import random\n",
    "from pandas.io.json import json_normalize\n",
    "import numpy as np\n",
    "import matplotlib.pyplot as plt\n",
    "from sklearn.preprocessing import StandardScaler\n",
    "import numpy as np\n",
    "from sklearn.metrics import silhouette_score\n",
    "from sklearn.model_selection import train_test_split\n",
    "from sklearn.decomposition import PCA    \n",
    "import matplotlib.pyplot as plt\n",
    "from sklearn.cluster import KMeans\n",
    "from sklearn.cluster import KMeans\n",
    "import numpy as np\n",
    "\n",
    "from random import randint\n",
    "from time import sleep\n",
    "\n",
    "import spotipy\n",
    "from spotipy.oauth2 import SpotifyClientCredentials"
   ]
  },
  {
   "cell_type": "markdown",
   "id": "fc40bf24",
   "metadata": {},
   "source": [
    "#### 2. Scraping Top 100 songs"
   ]
  },
  {
   "cell_type": "code",
   "execution_count": 8,
   "id": "25d1ed2a",
   "metadata": {},
   "outputs": [],
   "source": [
    "#1. Attribute url\n",
    "url = \"https://www.popvortex.com/music/charts/top-100-songs.php\""
   ]
  },
  {
   "cell_type": "code",
   "execution_count": 9,
   "id": "7ae883eb",
   "metadata": {},
   "outputs": [
    {
     "data": {
      "text/plain": [
       "200"
      ]
     },
     "execution_count": 9,
     "metadata": {},
     "output_type": "execute_result"
    }
   ],
   "source": [
    "# 2. Download html with a get request\n",
    "response = requests.get(url)\n",
    "response.status_code # 200 status code means OK!"
   ]
  },
  {
   "cell_type": "markdown",
   "id": "4d66b141",
   "metadata": {},
   "source": [
    "######### '200' response, so we will be able to scrape the page via beatifulsoup"
   ]
  },
  {
   "cell_type": "code",
   "execution_count": 10,
   "id": "ede023ba",
   "metadata": {},
   "outputs": [],
   "source": [
    "# 3. Parse html (create the 'soup')\n",
    "soup = BeautifulSoup(response.content, \"html.parser\")\n",
    "#soup"
   ]
  },
  {
   "cell_type": "code",
   "execution_count": 11,
   "id": "63662418",
   "metadata": {},
   "outputs": [
    {
     "ename": "IndexError",
     "evalue": "list index out of range",
     "output_type": "error",
     "traceback": [
      "\u001b[0;31m---------------------------------------------------------------------------\u001b[0m",
      "\u001b[0;31mIndexError\u001b[0m                                Traceback (most recent call last)",
      "Cell \u001b[0;32mIn[11], line 15\u001b[0m\n\u001b[1;32m     12\u001b[0m yearlist \u001b[38;5;241m=\u001b[39m soup\u001b[38;5;241m.\u001b[39mselect(\u001b[38;5;124m\"\u001b[39m\u001b[38;5;124mbody > div.container > div:nth-child(4) > div.col-xs-12.col-md-8 > div.chart-wrapper > div.feed-item > div.chart-content > ul > li:nth-child(2)\u001b[39m\u001b[38;5;124m\"\u001b[39m)\n\u001b[1;32m     14\u001b[0m \u001b[38;5;28;01mfor\u001b[39;00m i \u001b[38;5;129;01min\u001b[39;00m \u001b[38;5;28mrange\u001b[39m(\u001b[38;5;241m100\u001b[39m):\n\u001b[0;32m---> 15\u001b[0m     artist\u001b[38;5;241m.\u001b[39mappend(\u001b[43msongart\u001b[49m\u001b[43m[\u001b[49m\u001b[43mi\u001b[49m\u001b[43m]\u001b[49m\u001b[38;5;241m.\u001b[39mem\u001b[38;5;241m.\u001b[39mget_text())\n\u001b[1;32m     16\u001b[0m     song\u001b[38;5;241m.\u001b[39mappend(songart[i]\u001b[38;5;241m.\u001b[39mcite\u001b[38;5;241m.\u001b[39mget_text())\n\u001b[1;32m     17\u001b[0m     year\u001b[38;5;241m.\u001b[39mappend(yearlist[i]\u001b[38;5;241m.\u001b[39mget_text())    \n",
      "\u001b[0;31mIndexError\u001b[0m: list index out of range"
     ]
    }
   ],
   "source": [
    "# 4. Divide the different criteria into a different lists to be put into our final dataframe\n",
    "\n",
    "artist = []\n",
    "song = []\n",
    "genre = []\n",
    "year = []\n",
    "\n",
    "#num_iter = len(\"body > div.container > div:nth-child(4) > div.col-xs-12.col-md-8 > div.chart-wrapper > div.feed-item\")\n",
    "\n",
    "songart = soup.select(\"body > div.container > div:nth-child(4) > div.col-xs-12.col-md-8 > div.chart-wrapper > div.feed-item\")\n",
    "genlist = soup.select(\"body > div.container > div:nth-child(4) > div.col-xs-12.col-md-8 > div.chart-wrapper > div.feed-item > div.chart-content\")\n",
    "yearlist = soup.select(\"body > div.container > div:nth-child(4) > div.col-xs-12.col-md-8 > div.chart-wrapper > div.feed-item > div.chart-content > ul > li:nth-child(2)\")\n",
    "\n",
    "for i in range(100):\n",
    "    artist.append(songart[i].em.get_text())\n",
    "    song.append(songart[i].cite.get_text())\n",
    "    year.append(yearlist[i].get_text())    \n",
    "    try:\n",
    "        genre.append(genlist[i].ul.li.a.get_text())\n",
    "    except:\n",
    "        genre.append('Unknown')"
   ]
  },
  {
   "cell_type": "code",
   "execution_count": 12,
   "id": "b64c9190",
   "metadata": {},
   "outputs": [
    {
     "data": {
      "text/plain": [
       "96"
      ]
     },
     "execution_count": 12,
     "metadata": {},
     "output_type": "execute_result"
    }
   ],
   "source": [
    "len(soup.select(\"body > div.container > div:nth-child(4) > div.col-xs-12.col-md-8 > div.chart-wrapper > div.feed-item\"))"
   ]
  },
  {
   "cell_type": "code",
   "execution_count": 13,
   "id": "46afcb81",
   "metadata": {},
   "outputs": [],
   "source": [
    "# 5. Attribute the lists to a dataframe\n",
    "\n",
    "top100 = pd.DataFrame({'artist':artist\n",
    "                    ,'track':song\n",
    "                    ,'genre':genre\n",
    "                    ,'year':year})"
   ]
  },
  {
   "cell_type": "code",
   "execution_count": 14,
   "id": "400793a6",
   "metadata": {},
   "outputs": [
    {
     "data": {
      "text/html": [
       "<div>\n",
       "<style scoped>\n",
       "    .dataframe tbody tr th:only-of-type {\n",
       "        vertical-align: middle;\n",
       "    }\n",
       "\n",
       "    .dataframe tbody tr th {\n",
       "        vertical-align: top;\n",
       "    }\n",
       "\n",
       "    .dataframe thead th {\n",
       "        text-align: right;\n",
       "    }\n",
       "</style>\n",
       "<table border=\"1\" class=\"dataframe\">\n",
       "  <thead>\n",
       "    <tr style=\"text-align: right;\">\n",
       "      <th></th>\n",
       "      <th>artist</th>\n",
       "      <th>track</th>\n",
       "      <th>genre</th>\n",
       "      <th>year</th>\n",
       "    </tr>\n",
       "  </thead>\n",
       "  <tbody>\n",
       "    <tr>\n",
       "      <th>0</th>\n",
       "      <td>oliver anthony music</td>\n",
       "      <td>rich men north of richmond</td>\n",
       "      <td>country</td>\n",
       "      <td>release date: august 11, 2023</td>\n",
       "    </tr>\n",
       "    <tr>\n",
       "      <th>1</th>\n",
       "      <td>jimmy buffett</td>\n",
       "      <td>margaritaville</td>\n",
       "      <td>unknown</td>\n",
       "      <td>release date: january 1, 1977</td>\n",
       "    </tr>\n",
       "    <tr>\n",
       "      <th>2</th>\n",
       "      <td>zach bryan</td>\n",
       "      <td>i remember everything (feat. kacey musgraves)</td>\n",
       "      <td>country</td>\n",
       "      <td>release date: august 24, 2023</td>\n",
       "    </tr>\n",
       "    <tr>\n",
       "      <th>3</th>\n",
       "      <td>jimmy buffett</td>\n",
       "      <td>come monday</td>\n",
       "      <td>unknown</td>\n",
       "      <td>release date: january 1, 1974</td>\n",
       "    </tr>\n",
       "    <tr>\n",
       "      <th>4</th>\n",
       "      <td>doja cat</td>\n",
       "      <td>paint the town red</td>\n",
       "      <td>unknown</td>\n",
       "      <td>release date: august 4, 2023</td>\n",
       "    </tr>\n",
       "    <tr>\n",
       "      <th>...</th>\n",
       "      <td>...</td>\n",
       "      <td>...</td>\n",
       "      <td>...</td>\n",
       "      <td>...</td>\n",
       "    </tr>\n",
       "    <tr>\n",
       "      <th>91</th>\n",
       "      <td>chris tomlin</td>\n",
       "      <td>holy forever</td>\n",
       "      <td>christian &amp; gospel</td>\n",
       "      <td>release date: july 29, 2022</td>\n",
       "    </tr>\n",
       "    <tr>\n",
       "      <th>92</th>\n",
       "      <td>jimmy buffett &amp; martina mcbride</td>\n",
       "      <td>trip around the sun</td>\n",
       "      <td>country</td>\n",
       "      <td>release date: july 13, 2004</td>\n",
       "    </tr>\n",
       "    <tr>\n",
       "      <th>93</th>\n",
       "      <td>fleetwood mac</td>\n",
       "      <td>everywhere</td>\n",
       "      <td>rock</td>\n",
       "      <td>release date: april 14, 1987</td>\n",
       "    </tr>\n",
       "    <tr>\n",
       "      <th>94</th>\n",
       "      <td>kane brown &amp; katelyn brown</td>\n",
       "      <td>thank god</td>\n",
       "      <td>country</td>\n",
       "      <td>release date: september 9, 2022</td>\n",
       "    </tr>\n",
       "    <tr>\n",
       "      <th>95</th>\n",
       "      <td>oliver anthony music</td>\n",
       "      <td>i want to go home (live)</td>\n",
       "      <td>country</td>\n",
       "      <td>release date: august 22, 2023</td>\n",
       "    </tr>\n",
       "  </tbody>\n",
       "</table>\n",
       "<p>96 rows × 4 columns</p>\n",
       "</div>"
      ],
      "text/plain": [
       "                             artist  \\\n",
       "0              oliver anthony music   \n",
       "1                     jimmy buffett   \n",
       "2                        zach bryan   \n",
       "3                     jimmy buffett   \n",
       "4                          doja cat   \n",
       "..                              ...   \n",
       "91                     chris tomlin   \n",
       "92  jimmy buffett & martina mcbride   \n",
       "93                    fleetwood mac   \n",
       "94       kane brown & katelyn brown   \n",
       "95             oliver anthony music   \n",
       "\n",
       "                                            track               genre  \\\n",
       "0                      rich men north of richmond             country   \n",
       "1                                  margaritaville             unknown   \n",
       "2   i remember everything (feat. kacey musgraves)             country   \n",
       "3                                     come monday             unknown   \n",
       "4                              paint the town red             unknown   \n",
       "..                                            ...                 ...   \n",
       "91                                   holy forever  christian & gospel   \n",
       "92                            trip around the sun             country   \n",
       "93                                     everywhere                rock   \n",
       "94                                      thank god             country   \n",
       "95                       i want to go home (live)             country   \n",
       "\n",
       "                               year  \n",
       "0     release date: august 11, 2023  \n",
       "1     release date: january 1, 1977  \n",
       "2     release date: august 24, 2023  \n",
       "3     release date: january 1, 1974  \n",
       "4      release date: august 4, 2023  \n",
       "..                              ...  \n",
       "91      release date: july 29, 2022  \n",
       "92      release date: july 13, 2004  \n",
       "93     release date: april 14, 1987  \n",
       "94  release date: september 9, 2022  \n",
       "95    release date: august 22, 2023  \n",
       "\n",
       "[96 rows x 4 columns]"
      ]
     },
     "execution_count": 14,
     "metadata": {},
     "output_type": "execute_result"
    }
   ],
   "source": [
    "# 6. Lower case all the values\n",
    "top100 = top100.apply(lambda top100: top100.str.lower() if(top100.dtype == 'object') else top100)\n",
    "top100"
   ]
  },
  {
   "cell_type": "code",
   "execution_count": 15,
   "id": "b5f5acaf",
   "metadata": {},
   "outputs": [],
   "source": [
    "# 7. In the year column we have a Genre: leak. We will split these genres \n",
    "\n",
    "def genresplit(value):\n",
    "    if 'Genre:' in value:\n",
    "        name = value.split('Genre: ')[1]\n",
    "        \n",
    "        return name\n",
    "    else:\n",
    "        return value"
   ]
  },
  {
   "cell_type": "code",
   "execution_count": 16,
   "id": "37a2bd73",
   "metadata": {},
   "outputs": [],
   "source": [
    "# 8. .. and move these genres \n",
    "\n",
    "top100['genre'] = top100['genre'].apply(genresplit)\n",
    "top100['year'] = top100['year'].apply(genresplit)"
   ]
  },
  {
   "cell_type": "code",
   "execution_count": 17,
   "id": "888aca02",
   "metadata": {},
   "outputs": [],
   "source": [
    "def tidy(value):\n",
    "\n",
    "    type1 = value['genre']\n",
    "    type2 = value['year']\n",
    "    if str(type1) == 'New Release':\n",
    "        return type2\n",
    "    else:\n",
    "        return type1\n",
    "\n",
    "    \n",
    "top100['genre'] = top100.apply(tidy,axis=1)"
   ]
  },
  {
   "cell_type": "code",
   "execution_count": 18,
   "id": "b45a662b",
   "metadata": {},
   "outputs": [],
   "source": [
    "# 9. Now we are going to split the year column by the comma and find the year value. \"Nan\" values filled with 2023, because it was originally a \"New Release\" value\n",
    "\n",
    "top100['year'] = top100['year'].str.split(\", \", n = 1, expand = True)[1]\n",
    "top100['year'] = top100['year'].fillna(2023)\n",
    "top100['track'] = top100['track'].str.strip()"
   ]
  },
  {
   "cell_type": "code",
   "execution_count": 19,
   "id": "01fc08c1",
   "metadata": {
    "scrolled": true
   },
   "outputs": [
    {
     "data": {
      "text/html": [
       "<div>\n",
       "<style scoped>\n",
       "    .dataframe tbody tr th:only-of-type {\n",
       "        vertical-align: middle;\n",
       "    }\n",
       "\n",
       "    .dataframe tbody tr th {\n",
       "        vertical-align: top;\n",
       "    }\n",
       "\n",
       "    .dataframe thead th {\n",
       "        text-align: right;\n",
       "    }\n",
       "</style>\n",
       "<table border=\"1\" class=\"dataframe\">\n",
       "  <thead>\n",
       "    <tr style=\"text-align: right;\">\n",
       "      <th></th>\n",
       "      <th>artist</th>\n",
       "      <th>track</th>\n",
       "      <th>genre</th>\n",
       "      <th>year</th>\n",
       "    </tr>\n",
       "  </thead>\n",
       "  <tbody>\n",
       "    <tr>\n",
       "      <th>0</th>\n",
       "      <td>oliver anthony music</td>\n",
       "      <td>rich men north of richmond</td>\n",
       "      <td>country</td>\n",
       "      <td>2023</td>\n",
       "    </tr>\n",
       "    <tr>\n",
       "      <th>1</th>\n",
       "      <td>jimmy buffett</td>\n",
       "      <td>margaritaville</td>\n",
       "      <td>unknown</td>\n",
       "      <td>1977</td>\n",
       "    </tr>\n",
       "    <tr>\n",
       "      <th>2</th>\n",
       "      <td>zach bryan</td>\n",
       "      <td>i remember everything (feat. kacey musgraves)</td>\n",
       "      <td>country</td>\n",
       "      <td>2023</td>\n",
       "    </tr>\n",
       "    <tr>\n",
       "      <th>3</th>\n",
       "      <td>jimmy buffett</td>\n",
       "      <td>come monday</td>\n",
       "      <td>unknown</td>\n",
       "      <td>1974</td>\n",
       "    </tr>\n",
       "    <tr>\n",
       "      <th>4</th>\n",
       "      <td>doja cat</td>\n",
       "      <td>paint the town red</td>\n",
       "      <td>unknown</td>\n",
       "      <td>2023</td>\n",
       "    </tr>\n",
       "    <tr>\n",
       "      <th>...</th>\n",
       "      <td>...</td>\n",
       "      <td>...</td>\n",
       "      <td>...</td>\n",
       "      <td>...</td>\n",
       "    </tr>\n",
       "    <tr>\n",
       "      <th>91</th>\n",
       "      <td>chris tomlin</td>\n",
       "      <td>holy forever</td>\n",
       "      <td>christian &amp; gospel</td>\n",
       "      <td>2022</td>\n",
       "    </tr>\n",
       "    <tr>\n",
       "      <th>92</th>\n",
       "      <td>jimmy buffett &amp; martina mcbride</td>\n",
       "      <td>trip around the sun</td>\n",
       "      <td>country</td>\n",
       "      <td>2004</td>\n",
       "    </tr>\n",
       "    <tr>\n",
       "      <th>93</th>\n",
       "      <td>fleetwood mac</td>\n",
       "      <td>everywhere</td>\n",
       "      <td>rock</td>\n",
       "      <td>1987</td>\n",
       "    </tr>\n",
       "    <tr>\n",
       "      <th>94</th>\n",
       "      <td>kane brown &amp; katelyn brown</td>\n",
       "      <td>thank god</td>\n",
       "      <td>country</td>\n",
       "      <td>2022</td>\n",
       "    </tr>\n",
       "    <tr>\n",
       "      <th>95</th>\n",
       "      <td>oliver anthony music</td>\n",
       "      <td>i want to go home (live)</td>\n",
       "      <td>country</td>\n",
       "      <td>2023</td>\n",
       "    </tr>\n",
       "  </tbody>\n",
       "</table>\n",
       "<p>96 rows × 4 columns</p>\n",
       "</div>"
      ],
      "text/plain": [
       "                             artist  \\\n",
       "0              oliver anthony music   \n",
       "1                     jimmy buffett   \n",
       "2                        zach bryan   \n",
       "3                     jimmy buffett   \n",
       "4                          doja cat   \n",
       "..                              ...   \n",
       "91                     chris tomlin   \n",
       "92  jimmy buffett & martina mcbride   \n",
       "93                    fleetwood mac   \n",
       "94       kane brown & katelyn brown   \n",
       "95             oliver anthony music   \n",
       "\n",
       "                                            track               genre  year  \n",
       "0                      rich men north of richmond             country  2023  \n",
       "1                                  margaritaville             unknown  1977  \n",
       "2   i remember everything (feat. kacey musgraves)             country  2023  \n",
       "3                                     come monday             unknown  1974  \n",
       "4                              paint the town red             unknown  2023  \n",
       "..                                            ...                 ...   ...  \n",
       "91                                   holy forever  christian & gospel  2022  \n",
       "92                            trip around the sun             country  2004  \n",
       "93                                     everywhere                rock  1987  \n",
       "94                                      thank god             country  2022  \n",
       "95                       i want to go home (live)             country  2023  \n",
       "\n",
       "[96 rows x 4 columns]"
      ]
     },
     "execution_count": 19,
     "metadata": {},
     "output_type": "execute_result"
    }
   ],
   "source": [
    "top100"
   ]
  },
  {
   "cell_type": "code",
   "execution_count": 20,
   "id": "3020e3a1",
   "metadata": {},
   "outputs": [],
   "source": [
    "# 10. Export to csv\n",
    "\n",
    "top100.to_csv('top100_from_PopVortex.csv', index = False)"
   ]
  }
 ],
 "metadata": {
  "kernelspec": {
   "display_name": "Python 3 (ipykernel)",
   "language": "python",
   "name": "python3"
  },
  "language_info": {
   "codemirror_mode": {
    "name": "ipython",
    "version": 3
   },
   "file_extension": ".py",
   "mimetype": "text/x-python",
   "name": "python",
   "nbconvert_exporter": "python",
   "pygments_lexer": "ipython3",
   "version": "3.10.9"
  }
 },
 "nbformat": 4,
 "nbformat_minor": 5
}
